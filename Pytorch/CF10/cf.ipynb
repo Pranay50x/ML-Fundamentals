{
 "cells": [
  {
   "cell_type": "markdown",
   "metadata": {},
   "source": [
    "# CF10 dataset from kaggle"
   ]
  },
  {
   "cell_type": "markdown",
   "metadata": {},
   "source": [
    "# completing all the imports"
   ]
  },
  {
   "cell_type": "code",
   "execution_count": 8,
   "metadata": {},
   "outputs": [],
   "source": [
    "import torch\n",
    "import torchvision\n",
    "import torch.nn as nn\n",
    "import torch.nn.functional as F\n",
    "import torchvision.transforms as transforms\n",
    "import numpy as np\n",
    "import matplotlib.pyplot as plt"
   ]
  },
  {
   "cell_type": "markdown",
   "metadata": {},
   "source": [
    "## Transforming the data to tensors"
   ]
  },
  {
   "cell_type": "code",
   "execution_count": 3,
   "metadata": {},
   "outputs": [],
   "source": [
    "transforms = transforms.Compose([\n",
    "    transforms.ToTensor(),\n",
    "    transforms.Normalize((0.5,0.5,0.5),(0.5,0.5,0.5), (0.5,0.5,0.5))\n",
    "])"
   ]
  },
  {
   "cell_type": "markdown",
   "metadata": {},
   "source": [
    "# declaring the training and testing datasets"
   ]
  },
  {
   "cell_type": "code",
   "execution_count": 4,
   "metadata": {},
   "outputs": [],
   "source": [
    "trainig_data = torchvision.datasets.CIFAR10(root='./data', train=True, download=True, transform=transforms)\n",
    "train_loader = torch.utils.data.DataLoader(trainig_data, batch_size=64, shuffle=True, num_workers=4)\n",
    "\n",
    "testset=torchvision.datasets.CIFAR10(root='./data', train=False, download=True, transform=transforms)\n",
    "test_loader = torch.utils.data.DataLoader(testset, batch_size=64, shuffle=False, num_workers=4)"
   ]
  },
  {
   "cell_type": "code",
   "execution_count": 5,
   "metadata": {},
   "outputs": [],
   "source": [
    "class CIFAR10CNN(nn.Module): \n",
    "    def __init__(self):\n",
    "        super().__init__()\n",
    "        self.conv1 = nn.Conv2d(3, 64, kernel_size=3, padding=1)\n",
    "        self.bn1 = nn.BatchNorm2d(64)\n",
    "        self.conv2 = nn.Conv2d(64, 128, kernel_size=3, padding=1)\n",
    "        self.bn2 = nn.BatchNorm2d(128)\n",
    "        self.pool1 = nn.MaxPool2d(2,2)\n",
    "        \n",
    "        self.conv3 = nn.Conv2d(128, 256, kernel_size=3, padding=1)\n",
    "        self.bn3 = nn.BatchNorm2d(256) \n",
    "        self.conv4 = nn.Conv2d(256, 256, kernel_size=3, padding=1)\n",
    "        self.bn4 = nn.BatchNorm2d(256) \n",
    "        self.pool2 = nn.MaxPool2d(2,2)\n",
    "        \n",
    "        self.fc1 = nn.Linear(8*8*256, 512)\n",
    "        self.fc2 = nn.Linear(512, 10)\n",
    "        self.dropout = nn.Dropout(0.5)\n",
    "        \n",
    "    def forward(self,x):\n",
    "            x = F.relu(self.bn1(self.conv1(x)))\n",
    "            x = F.relu(self.bn2(self.conv2(x)))\n",
    "            x = self.pool1(x)\n",
    "            \n",
    "            x = F.relu(self.bn3(self.conv3(x)))\n",
    "            x = F.relu(self.bn4(self.conv4(x)))\n",
    "            x = self.pool2(x)\n",
    "            \n",
    "            x = torch.flatten(x,1)\n",
    "            x = F.relu(self.fc1(x))\n",
    "            x = self.dropout(x)\n",
    "            x = self.fc2(x)\n",
    "            \n",
    "            return x\n",
    "        "
   ]
  },
  {
   "cell_type": "code",
   "execution_count": 6,
   "metadata": {},
   "outputs": [
    {
     "name": "stdout",
     "output_type": "stream",
     "text": [
      "cpu\n",
      "CIFAR10CNN(\n",
      "  (conv1): Conv2d(3, 64, kernel_size=(3, 3), stride=(1, 1), padding=(1, 1))\n",
      "  (bn1): BatchNorm2d(64, eps=1e-05, momentum=0.1, affine=True, track_running_stats=True)\n",
      "  (conv2): Conv2d(64, 128, kernel_size=(3, 3), stride=(1, 1), padding=(1, 1))\n",
      "  (bn2): BatchNorm2d(128, eps=1e-05, momentum=0.1, affine=True, track_running_stats=True)\n",
      "  (pool1): MaxPool2d(kernel_size=2, stride=2, padding=0, dilation=1, ceil_mode=False)\n",
      "  (conv3): Conv2d(128, 256, kernel_size=(3, 3), stride=(1, 1), padding=(1, 1))\n",
      "  (bn3): BatchNorm2d(256, eps=1e-05, momentum=0.1, affine=True, track_running_stats=True)\n",
      "  (conv4): Conv2d(256, 256, kernel_size=(3, 3), stride=(1, 1), padding=(1, 1))\n",
      "  (bn4): BatchNorm2d(256, eps=1e-05, momentum=0.1, affine=True, track_running_stats=True)\n",
      "  (pool2): MaxPool2d(kernel_size=2, stride=2, padding=0, dilation=1, ceil_mode=False)\n",
      "  (fc1): Linear(in_features=16384, out_features=512, bias=True)\n",
      "  (fc2): Linear(in_features=512, out_features=10, bias=True)\n",
      "  (dropout): Dropout(p=0.5, inplace=False)\n",
      ")\n"
     ]
    }
   ],
   "source": [
    "\n",
    "device = torch.device('cuda' if torch.cuda.is_available() else 'cpu')\n",
    "print(device)\n",
    "\n",
    "model = CIFAR10CNN().to(device)\n",
    "print(model)\n"
   ]
  },
  {
   "cell_type": "markdown",
   "metadata": {},
   "source": [
    "train the model"
   ]
  },
  {
   "cell_type": "code",
   "execution_count": 7,
   "metadata": {},
   "outputs": [
    {
     "name": "stdout",
     "output_type": "stream",
     "text": [
      "[1,   100] loss: 4.568\n",
      "[1,   200] loss: 2.228\n",
      "[1,   300] loss: 2.161\n",
      "[1,   400] loss: 2.116\n",
      "[1,   500] loss: 2.080\n",
      "[1,   600] loss: 2.048\n",
      "[1,   700] loss: 2.017\n",
      "[2,   100] loss: 2.013\n",
      "[2,   200] loss: 2.001\n",
      "[2,   300] loss: 1.991\n",
      "[2,   400] loss: 1.983\n",
      "[2,   500] loss: 1.992\n",
      "[2,   600] loss: 1.959\n",
      "[2,   700] loss: 1.922\n",
      "[3,   100] loss: 1.873\n",
      "[3,   200] loss: 1.849\n",
      "[3,   300] loss: 1.836\n",
      "[3,   400] loss: 1.803\n",
      "[3,   500] loss: 1.755\n",
      "[3,   600] loss: 1.744\n",
      "[3,   700] loss: 1.654\n",
      "[4,   100] loss: 1.628\n",
      "[4,   200] loss: 1.571\n",
      "[4,   300] loss: 1.516\n",
      "[4,   400] loss: 1.467\n",
      "[4,   500] loss: 1.447\n",
      "[4,   600] loss: 1.447\n",
      "[4,   700] loss: 1.402\n",
      "[5,   100] loss: 1.314\n",
      "[5,   200] loss: 1.297\n",
      "[5,   300] loss: 1.253\n",
      "[5,   400] loss: 1.259\n",
      "[5,   500] loss: 1.253\n",
      "[5,   600] loss: 1.224\n",
      "[5,   700] loss: 1.205\n",
      "[6,   100] loss: 1.129\n",
      "[6,   200] loss: 1.110\n",
      "[6,   300] loss: 1.106\n",
      "[6,   400] loss: 1.111\n",
      "[6,   500] loss: 1.081\n",
      "[6,   600] loss: 1.068\n",
      "[6,   700] loss: 1.034\n",
      "[7,   100] loss: 0.964\n",
      "[7,   200] loss: 0.979\n",
      "[7,   300] loss: 0.958\n",
      "[7,   400] loss: 0.951\n",
      "[7,   500] loss: 0.958\n",
      "[7,   600] loss: 0.926\n",
      "[7,   700] loss: 0.916\n",
      "[8,   100] loss: 0.848\n",
      "[8,   200] loss: 0.874\n",
      "[8,   300] loss: 0.876\n",
      "[8,   400] loss: 0.871\n",
      "[8,   500] loss: 0.840\n",
      "[8,   600] loss: 0.882\n",
      "[8,   700] loss: 0.860\n",
      "[9,   100] loss: 0.790\n",
      "[9,   200] loss: 0.778\n",
      "[9,   300] loss: 0.771\n",
      "[9,   400] loss: 0.776\n",
      "[9,   500] loss: 0.760\n",
      "[9,   600] loss: 0.791\n",
      "[9,   700] loss: 0.772\n",
      "[10,   100] loss: 0.682\n",
      "[10,   200] loss: 0.695\n",
      "[10,   300] loss: 0.682\n",
      "[10,   400] loss: 0.699\n",
      "[10,   500] loss: 0.730\n",
      "[10,   600] loss: 0.699\n",
      "[10,   700] loss: 0.698\n",
      "Finished Training\n"
     ]
    }
   ],
   "source": [
    "def train():\n",
    "    model.train()\n",
    "    criterion = nn.CrossEntropyLoss()\n",
    "    optimizer = torch.optim.Adam(model.parameters(), lr=0.003)\n",
    "    \n",
    "    for epoch in range(10):\n",
    "        running_loss = 0.0\n",
    "        for i, data in enumerate(train_loader, 0):\n",
    "            inputs, labels = data[0].to(device), data[1].to(device)\n",
    "            optimizer.zero_grad()\n",
    "            outputs = model(inputs)\n",
    "            loss = criterion(outputs, labels)\n",
    "            loss.backward()\n",
    "            optimizer.step()\n",
    "            \n",
    "            running_loss += loss.item()\n",
    "            if i % 100 == 99:\n",
    "                print('[%d, %5d] loss: %.3f' % (epoch + 1, i + 1, running_loss / 100))\n",
    "                running_loss = 0.0\n",
    "            \n",
    "           \n",
    "                \n",
    "    print('Finished Training')\n",
    "    torch.save(model.state_dict(), 'cifar10_cnn.pth')\n",
    "train()"
   ]
  },
  {
   "cell_type": "code",
   "execution_count": 12,
   "metadata": {},
   "outputs": [
    {
     "name": "stdout",
     "output_type": "stream",
     "text": [
      "Predicted label for image:  6\n",
      "Actual label for image:  6\n"
     ]
    },
    {
     "data": {
      "image/png": "[encoded data removed]",
      "text/plain": [
       "<Figure size 640x480 with 1 Axes>"
      ]
     },
     "metadata": {},
     "output_type": "display_data"
    }
   ],
   "source": [
    "model = CIFAR10CNN().to(device)\n",
    "model.load_state_dict(torch.load('cifar10_cnn.pth'))\n",
    "\n",
    "model.eval()\n",
    "\n",
    "detailer = iter(test_loader)\n",
    "images, labels = next(detailer)\n",
    "\n",
    "with torch.no_grad():\n",
    "    output = model(images.to(device))\n",
    "    _, predicted = torch.max(output, 1)\n",
    "    \n",
    "print('Predicted label for image: ', predicted[5].item())\n",
    "print('Actual label for image: ', labels[5].item())\n",
    "\n",
    "img = images[0].cpu().numpy().transpose((1,2,0))\n",
    "mean = np.array([0.5,0.5,0.5])\n",
    "std = np.array([0.5,0.5,0.5])\n",
    "img = std * img + mean\n",
    "img = np.clip(img, 0, 1)\n",
    "\n",
    "plt.imshow(img)\n",
    "plt.title(f\"Predicted: {predicted[5].item()}, Actual: {labels[5].item()}\")\n",
    "plt.show()\n",
    "\n",
    "\n",
    "    "
   ]
  }
 ],
 "metadata": {
  "kernelspec": {
   "display_name": ".venv",
   "language": "python",
   "name": "python3"
  },
  "language_info": {
   "codemirror_mode": {
    "name": "ipython",
    "version": 3
   },
   "file_extension": ".py",
   "mimetype": "text/x-python",
   "name": "python",
   "nbconvert_exporter": "python",
   "pygments_lexer": "ipython3",
   "version": "3.12.1"
  }
 },
 "nbformat": 4,
 "nbformat_minor": 2
}
