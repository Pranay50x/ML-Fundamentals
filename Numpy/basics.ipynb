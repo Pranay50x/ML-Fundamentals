{
 "cells": [
  {
   "cell_type": "markdown",
   "metadata": {},
   "source": [
    "<b>Basics of Numpy\n",
    "\n"
   ]
  },
  {
   "cell_type": "code",
   "execution_count": 67,
   "metadata": {},
   "outputs": [
    {
     "name": "stdout",
     "output_type": "stream",
     "text": [
      "Requirement already satisfied: numpy in c:\\users\\praney kr\\appdata\\local\\programs\\python\\python311\\lib\\site-packages (1.26.1)\n",
      "Note: you may need to restart the kernel to use updated packages.\n"
     ]
    },
    {
     "name": "stderr",
     "output_type": "stream",
     "text": [
      "\n",
      "[notice] A new release of pip is available: 24.0 -> 24.1\n",
      "[notice] To update, run: python.exe -m pip install --upgrade pip\n"
     ]
    }
   ],
   "source": [
    "%pip install numpy"
   ]
  },
  {
   "cell_type": "markdown",
   "metadata": {},
   "source": [
    "Revise Lists in Python\n",
    "(their indexing as well) "
   ]
  },
  {
   "cell_type": "code",
   "execution_count": 68,
   "metadata": {},
   "outputs": [
    {
     "name": "stdout",
     "output_type": "stream",
     "text": [
      "2\n",
      "1\n",
      "[2, 3]\n"
     ]
    }
   ],
   "source": [
    "a = [1,2,3,4,5]\n",
    "print(a[1])\n",
    "print(a[-5]) \n",
    "print(a[1:3])"
   ]
  },
  {
   "cell_type": "markdown",
   "metadata": {},
   "source": [
    "<b>Arrays in Numpy</b> <br>\n",
    "Syntax: `np.array([array_elements])`<br>\n",
    "The numpy arrays work similar to that of lists and index accessing is easily done <br>"
   ]
  },
  {
   "cell_type": "code",
   "execution_count": 69,
   "metadata": {},
   "outputs": [
    {
     "name": "stdout",
     "output_type": "stream",
     "text": [
      "[1 2 3 4 5]\n",
      "[3 4 5]\n",
      "<class 'numpy.ndarray'>\n"
     ]
    }
   ],
   "source": [
    "import numpy as np \n",
    "a = np.array([1,2,3,4,5])\n",
    "print(a)\n",
    "print(a[-3:]) \n",
    "print(type(a))"
   ]
  },
  {
   "cell_type": "markdown",
   "metadata": {},
   "source": [
    "<b>Multi-Dimensional arrays <br>\n",
    "Syntax: `np.array([[array_elements1],\n",
    "                  [array_elements2],\n",
    "                  [array_elements3]  \n",
    "])` \n"
   ]
  },
  {
   "cell_type": "code",
   "execution_count": 70,
   "metadata": {},
   "outputs": [
    {
     "name": "stdout",
     "output_type": "stream",
     "text": [
      "[[1 2 3]\n",
      " [4 5 6]\n",
      " [7 8 9]]\n",
      "[4 5 6]\n",
      "6\n"
     ]
    }
   ],
   "source": [
    "mul_array = np.array([[1,2,3],\n",
    "                     [4,5,6],\n",
    "                     [7,8,9]\n",
    "                    ])\n",
    "\n",
    "print(mul_array)\n",
    "print(mul_array[1])  #gets the specific array row\n",
    "print(mul_array[1,2]) #gets the specific array element"
   ]
  },
  {
   "cell_type": "markdown",
   "metadata": {},
   "source": [
    "<b> Array Attribuetes</b> <br>\n",
    "Numpy is written in C uses static code and hence there are occurences of datatypes and others which may feel irrelevant in python "
   ]
  },
  {
   "cell_type": "code",
   "execution_count": 71,
   "metadata": {},
   "outputs": [
    {
     "name": "stdout",
     "output_type": "stream",
     "text": [
      "(3, 3)\n",
      "2\n",
      "9\n",
      "int32\n"
     ]
    }
   ],
   "source": [
    "print(mul_array.shape) #gives out the dimensions of the matrix\n",
    "print(mul_array.ndim) #depth of the matrix is given\n",
    "print(mul_array.size) #total elements in array\n",
    "print(mul_array.dtype) #returns the datatype of the elements in the numpy array "
   ]
  },
  {
   "cell_type": "markdown",
   "metadata": {},
   "source": [
    "<b>DataTypes in Numpy</b><br>\n",
    "The explicit conversion of np.arrays can also be done in this way as well where you specify to U type <br>\n",
    "`mix_array = np.array([[1,2,'1'],\n",
    "             [1,2,4.6], \n",
    "             [4,5,'5'], \n",
    "             ] ,dtype= \"<U5\")` <br>\n",
    "Change the code and see what happens with this type of array being used !<br>\n",
    "also if any dictionary is being used in a `np.array` the `dtype` becomes object and the types are reverted back into the python datatypes not the numpy datatypes we had seen.  "
   ]
  },
  {
   "cell_type": "code",
   "execution_count": 72,
   "metadata": {},
   "outputs": [
    {
     "name": "stdout",
     "output_type": "stream",
     "text": [
      "float32\n",
      "float32\n",
      "1.0\n"
     ]
    }
   ],
   "source": [
    "mix_array = np.array([[1,2,'1'],\n",
    "             [1,2,4.6], \n",
    "             [4,5,'5'], \n",
    "             ] ,dtype= np.float32)  \n",
    "\n",
    "print(mix_array.dtype)     \n",
    "print(mix_array[0][2].dtype) \n",
    "print(mix_array[0][2]) "
   ]
  },
  {
   "cell_type": "markdown",
   "metadata": {},
   "source": [
    "<b>Filling Arrays using `.full`</b><br>\n",
    "Generating and filling the arrays of any dimension with number of your choice! <br>\n",
    "<b>Syntax: </b> `array_name = np.full((shape_of_array), number_to_fill)`<br>\n",
    "Shape of array is basically in form of (depth,no.of rows in a single array, no.of elements in a row ) (for understanding only not a deifinition )"
   ]
  },
  {
   "cell_type": "code",
   "execution_count": 73,
   "metadata": {},
   "outputs": [
    {
     "name": "stdout",
     "output_type": "stream",
     "text": [
      "[[[5 5 5 5 5 5]\n",
      "  [5 5 5 5 5 5]\n",
      "  [5 5 5 5 5 5]\n",
      "  [5 5 5 5 5 5]\n",
      "  [5 5 5 5 5 5]]\n",
      "\n",
      " [[5 5 5 5 5 5]\n",
      "  [5 5 5 5 5 5]\n",
      "  [5 5 5 5 5 5]\n",
      "  [5 5 5 5 5 5]\n",
      "  [5 5 5 5 5 5]]\n",
      "\n",
      " [[5 5 5 5 5 5]\n",
      "  [5 5 5 5 5 5]\n",
      "  [5 5 5 5 5 5]\n",
      "  [5 5 5 5 5 5]\n",
      "  [5 5 5 5 5 5]]\n",
      "\n",
      " [[5 5 5 5 5 5]\n",
      "  [5 5 5 5 5 5]\n",
      "  [5 5 5 5 5 5]\n",
      "  [5 5 5 5 5 5]\n",
      "  [5 5 5 5 5 5]]]\n"
     ]
    }
   ],
   "source": [
    "new_arr  = np.full((4,5,6),5)\n",
    "print(new_arr)"
   ]
  },
  {
   "cell_type": "markdown",
   "metadata": {},
   "source": [
    "Filling using `.zeroes` and `.ones` and also some other methods "
   ]
  },
  {
   "cell_type": "code",
   "execution_count": 74,
   "metadata": {},
   "outputs": [
    {
     "name": "stdout",
     "output_type": "stream",
     "text": [
      "[[[0. 0. 0. 0.]\n",
      "  [0. 0. 0. 0.]\n",
      "  [0. 0. 0. 0.]]\n",
      "\n",
      " [[0. 0. 0. 0.]\n",
      "  [0. 0. 0. 0.]\n",
      "  [0. 0. 0. 0.]]]\n",
      "[[[1. 1. 1. 1.]\n",
      "  [1. 1. 1. 1.]\n",
      "  [1. 1. 1. 1.]]\n",
      "\n",
      " [[1. 1. 1. 1.]\n",
      "  [1. 1. 1. 1.]\n",
      "  [1. 1. 1. 1.]]]\n",
      "[[[0.5810299  0.54569189 0.75847441 0.13670079]\n",
      "  [0.55871361 0.52601733 0.95445305 0.83657105]\n",
      "  [0.99187807 0.82345153 0.69306706 0.7855674 ]]\n",
      "\n",
      " [[0.11745174 0.22938879 0.41074224 0.62260025]\n",
      "  [0.67445339 0.44911371 0.15496663 0.00523975]\n",
      "  [0.1974766  0.51398367 0.34600064 0.69823268]]]\n"
     ]
    }
   ],
   "source": [
    "a1 = np.zeros((2,3,4))\n",
    "a2 = np.ones((2,3,4))\n",
    "a3 = np.empty((2,3,4))\n",
    "\n",
    "print(a1)\n",
    "print(a2)\n",
    "print(a3)"
   ]
  },
  {
   "cell_type": "markdown",
   "metadata": {},
   "source": [
    "Few more filling techniques using `.arange` and `.linspace` methods <br>\n",
    "The `.arange` method  <b>Syntax: </b> `.arange(start_value, end_value, step_size)`<br>\n",
    "The `.linspace` method <b>Syntax: </b> `.linspace(start_value, end_value, no_of_steps)` <br>\n",
    "The `.linspace` methof divides it according to total no. of steps and the `.arange` uses the value of each step. "
   ]
  },
  {
   "cell_type": "code",
   "execution_count": 75,
   "metadata": {},
   "outputs": [
    {
     "name": "stdout",
     "output_type": "stream",
     "text": [
      "[ 0  4  8 12 16 20 24 28 32 36 40 44 48 52 56 60 64 68 72 76 80 84 88 92\n",
      " 96]\n",
      "[  0.  25.  50.  75. 100.]\n"
     ]
    }
   ],
   "source": [
    "array_1 = np.arange(0,100,4) \n",
    "array_2 = np.linspace(0,100,5)\n",
    "\n",
    "print(array_1)\n",
    "print(array_2)"
   ]
  },
  {
   "cell_type": "markdown",
   "metadata": {},
   "source": [
    "Using <b>Nan</b> and <b>Inf</b> <br>\n",
    "`np.nan` is used to represent the missing values in the data. <br>\n",
    "`np.inf` is used to represent the infinite values in the data."
   ]
  },
  {
   "cell_type": "code",
   "execution_count": 76,
   "metadata": {},
   "outputs": [
    {
     "name": "stdout",
     "output_type": "stream",
     "text": [
      "[[[0.14931106 0.39420267 0.42059412 0.53367154]\n",
      "  [0.37099243 0.29073983 0.98888749 0.34190732]\n",
      "  [0.77959404 0.45977254 0.720108   0.09116644]]\n",
      "\n",
      " [[0.90851023 0.56432859 0.50788983 0.38327196]\n",
      "  [0.11291317 0.23480689 0.66530074 0.11170503]\n",
      "  [0.58783831 0.71442038 0.33740172 0.13681235]]]\n",
      "[[[False False False False]\n",
      "  [False False False False]\n",
      "  [False False False False]]\n",
      "\n",
      " [[False False False False]\n",
      "  [False False False False]\n",
      "  [False False False False]]]\n",
      "[[[False False False False]\n",
      "  [False False False False]\n",
      "  [False False False False]]\n",
      "\n",
      " [[False False False False]\n",
      "  [False False False False]\n",
      "  [False False False False]]]\n",
      "nan\n",
      "[inf]\n"
     ]
    },
    {
     "name": "stderr",
     "output_type": "stream",
     "text": [
      "C:\\Users\\Praney KR\\AppData\\Local\\Temp\\ipykernel_5376\\1807580794.py:6: RuntimeWarning: invalid value encountered in sqrt\n",
      "  print(np.sqrt(-1))\n",
      "C:\\Users\\Praney KR\\AppData\\Local\\Temp\\ipykernel_5376\\1807580794.py:7: RuntimeWarning: divide by zero encountered in divide\n",
      "  print(np.array([10])/0)\n"
     ]
    }
   ],
   "source": [
    "array_3 = np.random.rand(2,3,4)\n",
    "print(array_3)\n",
    "print(np.isnan(array_3))\n",
    "print(np.isinf(array_3))    \n",
    "\n",
    "print(np.sqrt(-1))\n",
    "print(np.array([10])/0)"
   ]
  },
  {
   "cell_type": "markdown",
   "metadata": {},
   "source": [
    "<b>Mathematical Operations</b><br>\n",
    "The mathematical operations are easily done in numpy arrays and the operations are broadcasted to each element in the array. <br>\n",
    "Below, there is a sharp contrast b/w how a numpy array works with mathemetical operations and how a list works with mathematical operations."
   ]
  },
  {
   "cell_type": "code",
   "execution_count": 77,
   "metadata": {},
   "outputs": [
    {
     "name": "stdout",
     "output_type": "stream",
     "text": [
      "[1, 2, 3, 4, 5, 6, 7, 8, 9, 10]\n",
      "[ 7  9 11 13 15]\n",
      "****************\n",
      "[1, 2, 3, 4, 5, 1, 2, 3, 4, 5, 1, 2, 3, 4, 5, 1, 2, 3, 4, 5, 1, 2, 3, 4, 5]\n",
      "[ 5 10 15 20 25]\n"
     ]
    }
   ],
   "source": [
    "l1 = [1,2,3,4,5]\n",
    "l2 = [6,7,8,9,10]\n",
    "\n",
    "print(l1+l2)\n",
    "print(np.array(l1)+np.array(l2))\n",
    "print(\"****************\")\n",
    "print(l1*5)\n",
    "print(np.array(l1)*5)"
   ]
  },
  {
   "cell_type": "markdown",
   "metadata": {},
   "source": [
    "<b>Array Methods</b> <br>\n",
    "There are many methods in numpy arrays which can be used to perform various operations on the arrays. <br>\n",
    "The `.append` method is used to append the elements in the array. <br>\n",
    "Syntax: `array_name.append(element)` <br>\n",
    "The `.insert` method is used to insert the elements in the array. <br>\n",
    "Syntax: `array_name.insert(index, element)` <br>\n",
    "The `.delete` method is used to delete the elements in the array. <br>\n",
    "Syntax: `array_name.delete(index)` <br>"
   ]
  },
  {
   "cell_type": "code",
   "execution_count": 78,
   "metadata": {},
   "outputs": [
    {
     "name": "stdout",
     "output_type": "stream",
     "text": [
      "[1 2 3 4 5]\n",
      "[ 1  2  3  4  5  6  7  8  9 10]\n",
      "[ 1 67  2  3  4  5]\n",
      "[1 2 3 4 5]\n",
      "[[1 3]\n",
      " [4 6]\n",
      " [7 9]]\n"
     ]
    }
   ],
   "source": [
    "array_1 = np.array([1,2,3,4,5])\n",
    "\n",
    "print(array_1)\n",
    "\n",
    "array_2 = np.array([6,7,8,9,10])\n",
    "\n",
    "print(np.append(array_1,array_2))\n",
    "\n",
    "array_1=np.insert(array_1,1,67) \n",
    "print(array_1)\n",
    "\n",
    "print(np.delete(array_1,1))\n",
    "\n",
    "array_3 = np.array([[1,2,3],[4,5,6],[7,8,9]])\n",
    "print(np.delete(array_3,1,axis=1))"
   ]
  },
  {
   "cell_type": "markdown",
   "metadata": {},
   "source": [
    "<b>Structuring Methods</b> <br>\n",
    "The `.reshape` method is used to reshape the array into the desired shape. <br>\n",
    "Syntax: `array_name.reshape(shape)` <br>\n",
    "The `.ravel` method is used to convert the multi-dimensional array into a single dimensional array. <br>\n",
    "Syntax: `array_name.ravel()` <br>\n",
    "The `.flatten` method is used to convert the multi-dimensional array into a single dimensional array. <br>\n",
    "Syntax: `array_name.flatten()` <br>\n",
    "The `.transpose` method is used to transpose the array. <br>\n",
    "Syntax: `array_name.transpose()` <br>\n",
    "The `.swapaxes` method is used to swap the axes of the array. <br>\n",
    "Syntax: `array_name.swapaxes(axis1, axis2)` <br>"
   ]
  },
  {
   "cell_type": "code",
   "execution_count": 79,
   "metadata": {},
   "outputs": [
    {
     "name": "stdout",
     "output_type": "stream",
     "text": [
      "(4, 3)\n",
      "[[ 1  2  3]\n",
      " [ 4  5  6]\n",
      " [ 7  8  9]\n",
      " [10 11 12]]\n",
      "[[[ 1]\n",
      "  [ 2]\n",
      "  [ 3]]\n",
      "\n",
      " [[ 4]\n",
      "  [ 5]\n",
      "  [ 6]]\n",
      "\n",
      " [[ 7]\n",
      "  [ 8]\n",
      "  [ 9]]\n",
      "\n",
      " [[10]\n",
      "  [11]\n",
      "  [12]]]\n",
      "[ 1  2  3  4  5  6  7  8  9 10 11 12]\n",
      "[ 1  2  3  4  5  6  7  8  9 10 11 12]\n",
      "[[ 2  8 14]\n",
      " [ 4 10 16]\n",
      " [ 6 12 18]]\n",
      "[[1 4 7]\n",
      " [2 5 8]\n",
      " [3 6 9]]\n"
     ]
    }
   ],
   "source": [
    "array_4 = np.array([[1,2,3],[4,5,6],[7,8,9],[10,11,12]])\n",
    "print(array_4.shape)\n",
    "print(array_4.reshape(4,3))\n",
    "print(array_4.reshape((4,3,1)))\n",
    "\n",
    "array_1 = np.array([1,2,3,4,5])\n",
    "print(array_4.flatten())\n",
    "print(array_4.ravel())\n",
    "\n",
    "\n",
    "array_2 = np.array([[2,4,6],[8,10,12],[14,16,18]])\n",
    "print(array_2.transpose())\n",
    "\n",
    "array_3 = np.array([[1,2,3],[4,5,6],[7,8,9]])\n",
    "print(array_3.swapaxes(0,1))"
   ]
  },
  {
   "cell_type": "markdown",
   "metadata": {},
   "source": [
    "<i>Difference b/w `.ravel` and `.flatten`</i><br>\n",
    "It is that `.ravel` returns the reference of the original array and `.flatten` returns the copy of the original array. \n"
   ]
  },
  {
   "cell_type": "code",
   "execution_count": 80,
   "metadata": {},
   "outputs": [
    {
     "name": "stdout",
     "output_type": "stream",
     "text": [
      "Original array after ravel modification:\n",
      "[[99  2  3]\n",
      " [ 4  5  6]]\n",
      "Flattened array with ravel():\n",
      "[99  2  3  4  5  6]\n",
      "Flattened array with flatten():\n",
      "[99 98  3  4  5  6]\n"
     ]
    }
   ],
   "source": [
    "array_2d = np.array([[1, 2, 3], [4, 5, 6]])\n",
    "\n",
    "flattened_ravel = array_2d.ravel()\n",
    "flattened_ravel[0] = 99  \n",
    "\n",
    "flattened_flatten = array_2d.flatten()\n",
    "flattened_flatten[1] = 98  \n",
    "\n",
    "print(\"Original array after ravel modification:\")\n",
    "print(array_2d)\n",
    "print(\"Flattened array with ravel():\")\n",
    "print(flattened_ravel)\n",
    "print(\"Flattened array with flatten():\")\n",
    "print(flattened_flatten)"
   ]
  },
  {
   "cell_type": "markdown",
   "metadata": {},
   "source": [
    "<b>Concatenation</b> <br>\n",
    "The concatenation of the arrays can be done using the `.concatenate` method. <br>\n",
    "Syntax: `np.concatenate([array1, array2], axis=0)` <br>\n",
    "The `axis=0` is used to concatenate the arrays row-wise and `axis=1` is used to concatenate the arrays column-wise."
   ]
  },
  {
   "cell_type": "code",
   "execution_count": 81,
   "metadata": {},
   "outputs": [
    {
     "name": "stdout",
     "output_type": "stream",
     "text": [
      "[[ 1  2  3  4  5 11 12 13 14 15]\n",
      " [ 6  7  8  9 10 16 17 18 19 20]]\n"
     ]
    }
   ],
   "source": [
    "array_1 = np.array([[1,2,3,4,5],[6,7,8,9,10]])\n",
    "array_2 = np.array([[11,12,13,14,15],[16,17,18,19,20]])\n",
    "\n",
    "print(np.concatenate((array_1,array_2),axis=1)) "
   ]
  },
  {
   "cell_type": "markdown",
   "metadata": {},
   "source": [
    "<b>Stack</b><br>\n",
    "The stacking of the arrays can be done using the `.stack` method. <br>\n",
    "Syntax: `np.stack([array1, array2])` <br>"
   ]
  },
  {
   "cell_type": "code",
   "execution_count": 82,
   "metadata": {},
   "outputs": [
    {
     "name": "stdout",
     "output_type": "stream",
     "text": [
      "[[ 1  2  3  4  5]\n",
      " [ 6  7  8  9 10]\n",
      " [11 12 13 14 15]\n",
      " [16 17 18 19 20]]\n",
      "[[ 1  2  3  4  5 11 12 13 14 15]\n",
      " [ 6  7  8  9 10 16 17 18 19 20]]\n"
     ]
    }
   ],
   "source": [
    "array_1 = np.array([[1,2,3,4,5],[6,7,8,9,10]])\n",
    "array_2 = np.array([[11,12,13,14,15],[16,17,18,19,20]])\n",
    "\n",
    "print(np.vstack((array_1,array_2)))\n",
    "print(np.hstack((array_1,array_2)))"
   ]
  },
  {
   "cell_type": "markdown",
   "metadata": {},
   "source": [
    "<b>Split Command</b> <br>\n",
    "The splitting of the arrays can be done using the `.split` method. <br>\n",
    "Syntax: `np.split(array_name, indices_or_sections, axis=0)` <br>\n",
    "However `indices_or_sections` is the number of splits and `axis` is the axis along which the array is split, and the no. of splits must be in such a way that it always makes certain equal portions."
   ]
  },
  {
   "cell_type": "code",
   "execution_count": 83,
   "metadata": {},
   "outputs": [
    {
     "name": "stdout",
     "output_type": "stream",
     "text": [
      "[array([[ 1,  2,  3,  4,  5],\n",
      "       [ 6,  7,  8,  9, 10],\n",
      "       [11, 12, 13, 14, 15],\n",
      "       [16, 17, 18, 19, 20]]), array([], shape=(4, 0), dtype=int32)]\n",
      "[array([[ 1,  2],\n",
      "       [ 6,  7],\n",
      "       [11, 12],\n",
      "       [16, 17]]), array([[ 3,  4,  5],\n",
      "       [ 8,  9, 10],\n",
      "       [13, 14, 15],\n",
      "       [18, 19, 20]])]\n"
     ]
    }
   ],
   "source": [
    "a_1 = np.array([[1,2,3,4,5],\n",
    "                [6,7,8,9,10],\n",
    "                [11,12,13,14,15],\n",
    "                [16,17,18,19,20]])\n",
    "a_1 = np.array([[1,2,3,4,5],[6,7,8,9,10],[11,12,13,14,15],[16,17,18,19,20]])\n",
    "\n",
    "print(np.split(a_1, [6], axis=1))\n",
    "\n",
    "print(np.split(a_1, [2], axis=1))"
   ]
  },
  {
   "cell_type": "markdown",
   "metadata": {},
   "source": [
    "<b>Aggregate Functons</b> <br>\n",
    "The aggregate functions are used to perform the operations on the arrays. <br>\n",
    "The `.sum` method is used to calculate the sum of the elements in the array. <br>\n",
    "Syntax: `array_name.sum()` <br>\n",
    "The `.min` method is used to calculate the minimum of the elements in the array. <br>\n",
    "Syntax: `array_name.min()` <br>\n",
    "The `.max` method is used to calculate the maximum of the elements in the array. <br>\n",
    "Syntax: `array_name.max()` <br>\n",
    "The `.mean` method is used to calculate the mean of the elements in the array. <br>\n",
    "Syntax: `array_name.mean()` <br>\n",
    "The `.median` method is used to calculate the median of the elements in the array. <br>\n",
    "Syntax: `np.median(array_name)` <br>\n",
    "The `.std` method is used to calculate the standard deviation of the elements in the array. <br>\n",
    "Syntax: `array_name.std()` <br>"
   ]
  },
  {
   "cell_type": "code",
   "execution_count": 84,
   "metadata": {},
   "outputs": [
    {
     "name": "stdout",
     "output_type": "stream",
     "text": [
      "45\n",
      "1\n",
      "9\n",
      "5.0\n",
      "2.581988897471611\n"
     ]
    }
   ],
   "source": [
    "array_new = np.array([[1,2,3],[4,5,6],[7,8,9]])\n",
    "\n",
    "print(array_new.sum())\n",
    "print(array_new.min())\n",
    "print(array_new.max())\n",
    "print(array_new.mean())\n",
    "print(array_new.std())\n"
   ]
  },
  {
   "cell_type": "markdown",
   "metadata": {},
   "source": [
    "<b>Numpy Random </b> <br>\n",
    "The numpy random module is used to generate the random numbers. <br>\n",
    "The `.rand` method is used to generate the random numbers. <br>\n",
    "Syntax: `np.random.rand(shape)` <br>\n",
    "The `.randint` method is used to generate the random integers. <br>\n",
    "Syntax: `np.random.randint(start, end, size=shape)` <br>\n",
    "The `.randn` method is used to generate the random numbers from the standard normal distribution. <br>\n",
    "Syntax: `np.random.randn(shape)` <br>\n",
    "The `.choice` method is used to generate the random samples from the array. <br>\n",
    "Syntax: `np.random.choice(array_name, size=shape)` <br>\n",
    "The `.shuffle` method is used to shuffle the elements in the array. <br>\n",
    "Syntax: `np.random.shuffle(array_name)` <br>\n",
    "The `.permutation` method is used to randomly permute the sequence of the array. <br>\n",
    "Syntax: `np.random.permutation(array_name)` <br>\n",
    "\n"
   ]
  },
  {
   "cell_type": "code",
   "execution_count": 87,
   "metadata": {},
   "outputs": [
    {
     "name": "stdout",
     "output_type": "stream",
     "text": [
      "[[[-1.77567349 -1.05486155  1.07520844  0.19232858]\n",
      "  [-1.68128779  1.12021356 -0.02565128  1.04473286]\n",
      "  [-1.32949074 -1.02394315  0.77770865  0.15335912]]\n",
      "\n",
      " [[ 0.32009826 -0.14837591  2.73005679 -0.1794062 ]\n",
      "  [ 0.01323288 -0.40875581 -1.69580223 -0.05474605]\n",
      "  [-0.54504455  0.54203779  1.80096564  0.70862843]]]\n",
      "[74 42 76 44 47 78 82 16 90 63]\n",
      "[0 1 1]\n",
      "None\n",
      "[1 9 4 5 3 7 6 8 2 0]\n"
     ]
    }
   ],
   "source": [
    "randn = np.random.randn(2,3,4) #normal distribution\n",
    "rand1 = np.random.randint(1,100,10) #random integers\n",
    "rand2  = np.random.choice(2,3,4) #random choice\n",
    "rand3 = np.random.shuffle(rand1) #shuffling the array\n",
    "randp = np.random.permutation(10) #permutation of the array\n",
    "\n",
    "print(randn)\n",
    "print(rand1)\n",
    "print(rand2)\n",
    "print(rand3)\n",
    "print(randp)\n"
   ]
  },
  {
   "cell_type": "markdown",
   "metadata": {},
   "source": [
    "<b>Exports and Imports</b> <br>\n",
    "The `.save` method is used to save the array in the file. <br>\n",
    "Syntax: `np.save('file_name', array_name)` <br>\n",
    "The `.load` method is used to load the array from the file. <br>\n",
    "Syntax: `np.load('file_name.npy')` <br>\n",
    "The `.savetxt` method is used to save the array in the text file. <br>\n",
    "Syntax: `np.savetxt('file_name.txt', array_name, delimiter=' ')` <br>\n",
    "The `.loadtxt` method is used to load the array from the text file. <br>\n",
    "Syntax: `np.loadtxt('file_name.txt', delimiter=' ')` <br>"
   ]
  },
  {
   "cell_type": "code",
   "execution_count": 92,
   "metadata": {},
   "outputs": [
    {
     "name": "stdout",
     "output_type": "stream",
     "text": [
      "[[1. 2. 3.]\n",
      " [4. 5. 6.]\n",
      " [7. 8. 9.]]\n"
     ]
    }
   ],
   "source": [
    "array_new = np.array([[1,2,3],[4,5,6],[7,8,9]])\n",
    "\n",
    "#uncomment line by line to see how to Import and Export Numpy Arrays\n",
    "# np.save('array_new.npy',array_new)\n",
    "# print('Array saved')\n",
    "# array_loaded = np.load('array_new.npy')\n",
    "# print('array loaded')\n",
    "# print(array_loaded)\n",
    "# array_csv = np.savetxt('array_new.csv',array_new,delimiter=',')\n",
    "# print('Array saved')\n",
    "# array_loaded = np.loadtxt('array_new.csv',delimiter=',')\n",
    "# print(array_loaded)"
   ]
  }
 ],
 "metadata": {
  "kernelspec": {
   "display_name": "Python 3 (ipykernel)",
   "language": "python",
   "name": "python3"
  }
 },
 "nbformat": 4,
 "nbformat_minor": 2
}
